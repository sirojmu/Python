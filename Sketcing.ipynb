{
 "cells": [
  {
   "cell_type": "code",
   "execution_count": null,
   "id": "1ba0f599",
   "metadata": {},
   "outputs": [],
   "source": [
    "!pip install sketchpy #install library sketchpy"
   ]
  },
  {
   "cell_type": "code",
   "execution_count": null,
   "id": "19682ec3",
   "metadata": {},
   "outputs": [],
   "source": [
    "from sketchpy import library as lib\n",
    "\n",
    "sketch = lib.rdj() #panggil rdj(robert downey jr.), bisa diganti dengan vijay, bts, indian_flag\n",
    "sketch.draw()"
   ]
  },
  {
   "cell_type": "code",
   "execution_count": null,
   "id": "7bfd0792",
   "metadata": {},
   "outputs": [],
   "source": []
  },
  {
   "cell_type": "code",
   "execution_count": null,
   "id": "a3845970",
   "metadata": {},
   "outputs": [],
   "source": []
  }
 ],
 "metadata": {
  "kernelspec": {
   "display_name": "Python 3 (ipykernel)",
   "language": "python",
   "name": "python3"
  },
  "language_info": {
   "codemirror_mode": {
    "name": "ipython",
    "version": 3
   },
   "file_extension": ".py",
   "mimetype": "text/x-python",
   "name": "python",
   "nbconvert_exporter": "python",
   "pygments_lexer": "ipython3",
   "version": "3.9.12"
  }
 },
 "nbformat": 4,
 "nbformat_minor": 5
}
